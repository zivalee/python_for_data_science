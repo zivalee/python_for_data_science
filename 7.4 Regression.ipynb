{
 "cells": [
  {
   "cell_type": "code",
   "execution_count": 2,
   "metadata": {},
   "outputs": [
    {
     "data": {
      "text/html": [
       "<div>\n",
       "<style scoped>\n",
       "    .dataframe tbody tr th:only-of-type {\n",
       "        vertical-align: middle;\n",
       "    }\n",
       "\n",
       "    .dataframe tbody tr th {\n",
       "        vertical-align: top;\n",
       "    }\n",
       "\n",
       "    .dataframe thead th {\n",
       "        text-align: right;\n",
       "    }\n",
       "</style>\n",
       "<table border=\"1\" class=\"dataframe\">\n",
       "  <thead>\n",
       "    <tr style=\"text-align: right;\">\n",
       "      <th></th>\n",
       "      <th>year</th>\n",
       "      <th>salary</th>\n",
       "    </tr>\n",
       "  </thead>\n",
       "  <tbody>\n",
       "    <tr>\n",
       "      <th>1</th>\n",
       "      <td>2.4</td>\n",
       "      <td>6600</td>\n",
       "    </tr>\n",
       "    <tr>\n",
       "      <th>2</th>\n",
       "      <td>5.5</td>\n",
       "      <td>10100</td>\n",
       "    </tr>\n",
       "    <tr>\n",
       "      <th>3</th>\n",
       "      <td>3.3</td>\n",
       "      <td>7300</td>\n",
       "    </tr>\n",
       "    <tr>\n",
       "      <th>4</th>\n",
       "      <td>0.2</td>\n",
       "      <td>5000</td>\n",
       "    </tr>\n",
       "    <tr>\n",
       "      <th>5</th>\n",
       "      <td>1.5</td>\n",
       "      <td>6100</td>\n",
       "    </tr>\n",
       "  </tbody>\n",
       "</table>\n",
       "</div>"
      ],
      "text/plain": [
       "   year  salary\n",
       "1   2.4    6600\n",
       "2   5.5   10100\n",
       "3   3.3    7300\n",
       "4   0.2    5000\n",
       "5   1.5    6100"
      ]
     },
     "execution_count": 2,
     "metadata": {},
     "output_type": "execute_result"
    }
   ],
   "source": [
    "import pandas\n",
    "df = pandas.read_csv('Data/salary.csv', index_col = 0)\n",
    "df.head()"
   ]
  },
  {
   "cell_type": "code",
   "execution_count": 3,
   "metadata": {},
   "outputs": [],
   "source": [
    "from matplotlib import pyplot as plt\n",
    "X = df[['year']]\n",
    "Y = df['salary'].values"
   ]
  },
  {
   "cell_type": "code",
   "execution_count": 4,
   "metadata": {},
   "outputs": [
    {
     "name": "stdout",
     "output_type": "stream",
     "text": [
      "Populating the interactive namespace from numpy and matplotlib\n"
     ]
    },
    {
     "data": {
      "text/plain": [
       "Text(0,0.5,'salary')"
      ]
     },
     "execution_count": 4,
     "metadata": {},
     "output_type": "execute_result"
    },
    {
     "data": {
      "image/png": "[encoded data removed]",
      "text/plain": [
       "<Figure size 432x288 with 1 Axes>"
      ]
     },
     "metadata": {},
     "output_type": "display_data"
    }
   ],
   "source": [
    "% pylab inline\n",
    "plt.scatter(X,Y, color=\"red\")\n",
    "plt.xlabel('year')\n",
    "plt.ylabel('salary')"
   ]
  },
  {
   "cell_type": "code",
   "execution_count": 5,
   "metadata": {
    "scrolled": false
   },
   "outputs": [
    {
     "data": {
      "text/plain": [
       "LinearRegression(copy_X=True, fit_intercept=True, n_jobs=1, normalize=False)"
      ]
     },
     "execution_count": 5,
     "metadata": {},
     "output_type": "execute_result"
    }
   ],
   "source": [
    "from sklearn.linear_model import LinearRegression\n",
    "regr = LinearRegression()\n",
    "regr.fit(X,Y)"
   ]
  },
  {
   "cell_type": "code",
   "execution_count": 6,
   "metadata": {},
   "outputs": [
    {
     "name": "stdout",
     "output_type": "stream",
     "text": [
      "Coefficient:[712.59413615]\n",
      "Intercept:5049.009899813836\n"
     ]
    }
   ],
   "source": [
    "# y = ax+b\n",
    "print('Coefficient:{}'.format(regr.coef_) )      #a\n",
    "print('Intercept:{}'.format(regr.intercept_) )   #b"
   ]
  },
  {
   "cell_type": "code",
   "execution_count": 7,
   "metadata": {},
   "outputs": [
    {
     "data": {
      "text/plain": [
       "array([ 6759.23582656,  8968.27764861,  7400.57054909,  5191.52872704,\n",
       "        6117.90110403, 10322.20650729, 10607.24416175,  9039.53706223,\n",
       "        7044.27348102,  9467.09354391, 10322.20650729,  6759.23582656,\n",
       "        6046.64169042,  9680.87178476,  8184.42409885,  7970.64585801,\n",
       "        8540.72116693,  9609.61237114, 10108.42826645,  9538.35295753,\n",
       "        7186.79230825,  5832.86344957, 10322.20650729,  5832.86344957,\n",
       "        7543.08937632,  5191.52872704,  6616.71699933,  6687.97641295,\n",
       "       10607.24416175,  6830.49524018,  5761.60403596,  5334.04755427,\n",
       "        7756.86761717,  6189.16051765,  5262.78814066,  8611.98058054,\n",
       "        5904.12286319,  5761.60403596,  5761.60403596,  9609.61237114,\n",
       "        9538.35295753, 10108.42826645, 10393.4659209 ,  8469.46175331,\n",
       "        5262.78814066,  5262.78814066,  5049.00989981,  9395.8341303 ,\n",
       "        8968.27764861,  5619.08520873,  8469.46175331,  5334.04755427,\n",
       "       10607.24416175,  7614.34878994, 10393.4659209 ,  5405.30696789,\n",
       "        9110.79647584,  5405.30696789,  7186.79230825,  9894.6500256 ,\n",
       "        9894.6500256 , 10250.94709367,  8968.27764861,  5334.04755427,\n",
       "        8683.23999415, 10108.42826645, 10179.68768006,  8897.018235  ,\n",
       "        5619.08520873, 10678.50357536,  6331.67934488,  9894.6500256 ,\n",
       "        6046.64169042, 10393.4659209 ,  6616.71699933,  6189.16051765,\n",
       "        9752.13119837,  6117.90110403, 10322.20650729,  9894.6500256 ,\n",
       "        9965.90943922, 10108.42826645, 10749.76298898,  8540.72116693,\n",
       "        9680.87178476,  8469.46175331,  6331.67934488, 10108.42826645,\n",
       "        6759.23582656,  5904.12286319,  5904.12286319,  7614.34878994,\n",
       "        9680.87178476,  6616.71699933,  7329.31113548, 10678.50357536,\n",
       "        7115.53289464,  7400.57054909,  8184.42409885,  9110.79647584])"
      ]
     },
     "execution_count": 7,
     "metadata": {},
     "output_type": "execute_result"
    }
   ],
   "source": [
    "regr.predict(X)"
   ]
  },
  {
   "cell_type": "code",
   "execution_count": 8,
   "metadata": {},
   "outputs": [
    {
     "data": {
      "text/plain": [
       "Text(0,0.5,'salary')"
      ]
     },
     "execution_count": 8,
     "metadata": {},
     "output_type": "execute_result"
    },
    {
     "data": {
      "image/png": "[encoded data removed]",
      "text/plain": [
       "<Figure size 432x288 with 1 Axes>"
      ]
     },
     "metadata": {},
     "output_type": "display_data"
    }
   ],
   "source": [
    "plt.scatter(X,Y, color=\"red\")\n",
    "plt.plot(X, regr.predict(X), linewidth = 3, color = \"black\")\n",
    "plt.xlabel('year')\n",
    "plt.ylabel('salary')"
   ]
  },
  {
   "cell_type": "code",
   "execution_count": 9,
   "metadata": {},
   "outputs": [
    {
     "data": {
      "text/plain": [
       "LinearRegression(copy_X=True, fit_intercept=True, n_jobs=1, normalize=False)"
      ]
     },
     "execution_count": 9,
     "metadata": {},
     "output_type": "execute_result"
    }
   ],
   "source": [
    "from sklearn.preprocessing import PolynomialFeatures\n",
    "from sklearn.linear_model import LinearRegression\n",
    "\n",
    "poly_reg= PolynomialFeatures(degree = 2)\n",
    "X_ = poly_reg.fit_transform(X)\n",
    "regr = LinearRegression()\n",
    "regr.fit(X_, Y)"
   ]
  },
  {
   "cell_type": "code",
   "execution_count": 10,
   "metadata": {},
   "outputs": [],
   "source": [
    "X2 = X.sort_values(['year'])\n",
    "X2_ = poly_reg.fit_transform(X2)"
   ]
  },
  {
   "cell_type": "code",
   "execution_count": 11,
   "metadata": {},
   "outputs": [
    {
     "data": {
      "text/plain": [
       "Text(0,0.5,'salary')"
      ]
     },
     "execution_count": 11,
     "metadata": {},
     "output_type": "execute_result"
    },
    {
     "data": {
      "image/png": "[encoded data removed]",
      "text/plain": [
       "<Figure size 432x288 with 1 Axes>"
      ]
     },
     "metadata": {},
     "output_type": "display_data"
    }
   ],
   "source": [
    "plt.scatter(X,Y, color=\"red\")\n",
    "plt.plot(X2, regr.predict(X2_), color= \"blue\", linewidth = 3)\n",
    "plt.xlabel('year')\n",
    "plt.ylabel('salary')"
   ]
  },
  {
   "cell_type": "code",
   "execution_count": 12,
   "metadata": {},
   "outputs": [],
   "source": [
    "import pandas\n",
    "df = pandas.read_csv('Data/house-prices.csv')"
   ]
  },
  {
   "cell_type": "code",
   "execution_count": 13,
   "metadata": {},
   "outputs": [
    {
     "data": {
      "text/html": [
       "<div>\n",
       "<style scoped>\n",
       "    .dataframe tbody tr th:only-of-type {\n",
       "        vertical-align: middle;\n",
       "    }\n",
       "\n",
       "    .dataframe tbody tr th {\n",
       "        vertical-align: top;\n",
       "    }\n",
       "\n",
       "    .dataframe thead th {\n",
       "        text-align: right;\n",
       "    }\n",
       "</style>\n",
       "<table border=\"1\" class=\"dataframe\">\n",
       "  <thead>\n",
       "    <tr style=\"text-align: right;\">\n",
       "      <th></th>\n",
       "      <th>Home</th>\n",
       "      <th>Price</th>\n",
       "      <th>SqFt</th>\n",
       "      <th>Bedrooms</th>\n",
       "      <th>Bathrooms</th>\n",
       "      <th>Offers</th>\n",
       "      <th>Brick</th>\n",
       "      <th>Neighborhood</th>\n",
       "    </tr>\n",
       "  </thead>\n",
       "  <tbody>\n",
       "    <tr>\n",
       "      <th>0</th>\n",
       "      <td>1</td>\n",
       "      <td>114300</td>\n",
       "      <td>1790</td>\n",
       "      <td>2</td>\n",
       "      <td>2</td>\n",
       "      <td>2</td>\n",
       "      <td>No</td>\n",
       "      <td>East</td>\n",
       "    </tr>\n",
       "    <tr>\n",
       "      <th>1</th>\n",
       "      <td>2</td>\n",
       "      <td>114200</td>\n",
       "      <td>2030</td>\n",
       "      <td>4</td>\n",
       "      <td>2</td>\n",
       "      <td>3</td>\n",
       "      <td>No</td>\n",
       "      <td>East</td>\n",
       "    </tr>\n",
       "    <tr>\n",
       "      <th>2</th>\n",
       "      <td>3</td>\n",
       "      <td>114800</td>\n",
       "      <td>1740</td>\n",
       "      <td>3</td>\n",
       "      <td>2</td>\n",
       "      <td>1</td>\n",
       "      <td>No</td>\n",
       "      <td>East</td>\n",
       "    </tr>\n",
       "    <tr>\n",
       "      <th>3</th>\n",
       "      <td>4</td>\n",
       "      <td>94700</td>\n",
       "      <td>1980</td>\n",
       "      <td>3</td>\n",
       "      <td>2</td>\n",
       "      <td>3</td>\n",
       "      <td>No</td>\n",
       "      <td>East</td>\n",
       "    </tr>\n",
       "    <tr>\n",
       "      <th>4</th>\n",
       "      <td>5</td>\n",
       "      <td>119800</td>\n",
       "      <td>2130</td>\n",
       "      <td>3</td>\n",
       "      <td>3</td>\n",
       "      <td>3</td>\n",
       "      <td>No</td>\n",
       "      <td>East</td>\n",
       "    </tr>\n",
       "  </tbody>\n",
       "</table>\n",
       "</div>"
      ],
      "text/plain": [
       "   Home   Price  SqFt  Bedrooms  Bathrooms  Offers Brick Neighborhood\n",
       "0     1  114300  1790         2          2       2    No         East\n",
       "1     2  114200  2030         4          2       3    No         East\n",
       "2     3  114800  1740         3          2       1    No         East\n",
       "3     4   94700  1980         3          2       3    No         East\n",
       "4     5  119800  2130         3          3       3    No         East"
      ]
     },
     "execution_count": 13,
     "metadata": {},
     "output_type": "execute_result"
    }
   ],
   "source": [
    "df.head()"
   ]
  },
  {
   "cell_type": "code",
   "execution_count": 14,
   "metadata": {},
   "outputs": [],
   "source": [
    "#pandas.get_dummies(df['Brick'])\n",
    "#pandas.get_dummies(df['Neighborhood'])"
   ]
  },
  {
   "cell_type": "code",
   "execution_count": 15,
   "metadata": {},
   "outputs": [
    {
     "data": {
      "text/html": [
       "<div>\n",
       "<style scoped>\n",
       "    .dataframe tbody tr th:only-of-type {\n",
       "        vertical-align: middle;\n",
       "    }\n",
       "\n",
       "    .dataframe tbody tr th {\n",
       "        vertical-align: top;\n",
       "    }\n",
       "\n",
       "    .dataframe thead th {\n",
       "        text-align: right;\n",
       "    }\n",
       "</style>\n",
       "<table border=\"1\" class=\"dataframe\">\n",
       "  <thead>\n",
       "    <tr style=\"text-align: right;\">\n",
       "      <th></th>\n",
       "      <th>Price</th>\n",
       "      <th>SqFt</th>\n",
       "      <th>Bedrooms</th>\n",
       "      <th>Bathrooms</th>\n",
       "      <th>Offers</th>\n",
       "      <th>Yes</th>\n",
       "      <th>East</th>\n",
       "      <th>North</th>\n",
       "    </tr>\n",
       "  </thead>\n",
       "  <tbody>\n",
       "    <tr>\n",
       "      <th>0</th>\n",
       "      <td>114300</td>\n",
       "      <td>1790</td>\n",
       "      <td>2</td>\n",
       "      <td>2</td>\n",
       "      <td>2</td>\n",
       "      <td>0</td>\n",
       "      <td>1</td>\n",
       "      <td>0</td>\n",
       "    </tr>\n",
       "    <tr>\n",
       "      <th>1</th>\n",
       "      <td>114200</td>\n",
       "      <td>2030</td>\n",
       "      <td>4</td>\n",
       "      <td>2</td>\n",
       "      <td>3</td>\n",
       "      <td>0</td>\n",
       "      <td>1</td>\n",
       "      <td>0</td>\n",
       "    </tr>\n",
       "    <tr>\n",
       "      <th>2</th>\n",
       "      <td>114800</td>\n",
       "      <td>1740</td>\n",
       "      <td>3</td>\n",
       "      <td>2</td>\n",
       "      <td>1</td>\n",
       "      <td>0</td>\n",
       "      <td>1</td>\n",
       "      <td>0</td>\n",
       "    </tr>\n",
       "    <tr>\n",
       "      <th>3</th>\n",
       "      <td>94700</td>\n",
       "      <td>1980</td>\n",
       "      <td>3</td>\n",
       "      <td>2</td>\n",
       "      <td>3</td>\n",
       "      <td>0</td>\n",
       "      <td>1</td>\n",
       "      <td>0</td>\n",
       "    </tr>\n",
       "    <tr>\n",
       "      <th>4</th>\n",
       "      <td>119800</td>\n",
       "      <td>2130</td>\n",
       "      <td>3</td>\n",
       "      <td>3</td>\n",
       "      <td>3</td>\n",
       "      <td>0</td>\n",
       "      <td>1</td>\n",
       "      <td>0</td>\n",
       "    </tr>\n",
       "  </tbody>\n",
       "</table>\n",
       "</div>"
      ],
      "text/plain": [
       "    Price  SqFt  Bedrooms  Bathrooms  Offers  Yes  East  North\n",
       "0  114300  1790         2          2       2    0     1      0\n",
       "1  114200  2030         4          2       3    0     1      0\n",
       "2  114800  1740         3          2       1    0     1      0\n",
       "3   94700  1980         3          2       3    0     1      0\n",
       "4  119800  2130         3          3       3    0     1      0"
      ]
     },
     "execution_count": 15,
     "metadata": {},
     "output_type": "execute_result"
    }
   ],
   "source": [
    "house = pandas.concat([df, pandas.get_dummies(df['Brick']), pandas.get_dummies(df['Neighborhood'])], axis = 1)\n",
    "del house['No']\n",
    "del house['West']\n",
    "del house['Brick']\n",
    "del house['Neighborhood']\n",
    "del house['Home']\n",
    "house.head()"
   ]
  },
  {
   "cell_type": "code",
   "execution_count": 16,
   "metadata": {},
   "outputs": [],
   "source": [
    "X = house[['SqFt', 'Bedrooms', 'Bathrooms', 'Offers', 'Yes', 'East', 'North']]\n",
    "Y = house['Price'].values"
   ]
  },
  {
   "cell_type": "code",
   "execution_count": 17,
   "metadata": {},
   "outputs": [
    {
     "data": {
      "text/plain": [
       "LinearRegression(copy_X=True, fit_intercept=True, n_jobs=1, normalize=False)"
      ]
     },
     "execution_count": 17,
     "metadata": {},
     "output_type": "execute_result"
    }
   ],
   "source": [
    "from sklearn.linear_model import LinearRegression\n",
    "regr = LinearRegression()\n",
    "regr.fit(X,Y)"
   ]
  },
  {
   "cell_type": "code",
   "execution_count": 18,
   "metadata": {},
   "outputs": [
    {
     "data": {
      "text/plain": [
       "array([103182.88325028, 116127.48050967, 113047.47841973, 109230.99957752,\n",
       "       125063.33919194, 108460.31885328, 148704.1829466 , 153525.7716034 ,\n",
       "       120366.97977446, 103865.84286795, 129178.03614553, 124719.73204259,\n",
       "        98814.52852196, 128446.1660185 , 167661.38200801, 141655.63841392,\n",
       "       137272.82484975, 110937.30627969, 123978.2844232 , 161741.1079378 ,\n",
       "        99162.18882362, 103583.96519486,  95423.39386208, 119609.92969489,\n",
       "       159114.47019421, 139349.71073264, 136779.2847555 , 102660.24046903,\n",
       "        86407.16329753, 180614.63904496, 175208.34797844, 129459.93561064,\n",
       "       148719.93761665, 150535.84930595, 107604.65962152, 123974.23127089,\n",
       "       109512.89904263, 158652.44607031, 134229.22007367, 106340.56922088,\n",
       "        99261.81118229, 144451.05303714, 105514.14309396, 139883.70129304,\n",
       "       162800.982754  , 100222.06363982, 123225.48902465,  89698.67559875,\n",
       "       113251.69400417, 113250.68079769, 132887.59800223, 100185.53590812,\n",
       "       115169.51091764, 117150.82759417,  93303.64422968, 116770.67092109,\n",
       "       137657.03467513, 157381.06104282, 148471.7474638 , 158083.69806501,\n",
       "       167549.49415539,  95204.58902393, 164588.67454493, 117425.4106404 ,\n",
       "       133380.85546876, 112290.42834016, 122595.92925788, 124540.69641069,\n",
       "       111003.08890826, 148902.06251323, 155063.4318438 , 161793.25992171,\n",
       "        93303.64422968, 128561.39083735, 147834.89307018, 110572.77385882,\n",
       "       137090.41732546, 176798.16020274, 118740.63981846, 141655.63841392,\n",
       "       137272.82484975, 177646.52480765, 164767.71017683, 148169.07493704,\n",
       "        82167.66403273, 183475.83629675, 102531.38500552, 167888.84662371,\n",
       "       124292.6584677 ,  99867.10871131, 140807.27380901, 126507.42383352,\n",
       "       146629.29067125, 130681.14046975, 169908.97389744, 160528.21091203,\n",
       "       141491.39884303, 139876.40666619, 152247.09194906, 170220.1064674 ,\n",
       "        95846.41428466, 115417.54886063, 131634.09830043, 185277.15873234,\n",
       "        97253.94940251, 164481.75755941, 110473.15150016, 138293.88906875,\n",
       "       134941.56500606, 116120.18588281, 108771.45142323, 102093.77532923,\n",
       "       128429.29389929, 129148.80304068, 131218.3725047 , 114435.3579251 ,\n",
       "       205993.14663203, 115879.44256668, 126499.11600018,  95097.67203841,\n",
       "       111778.37625775, 114464.59102995, 143056.03111479, 130172.12833316,\n",
       "       148197.29483541, 119581.70979652, 158010.62080959, 124715.67889028])"
      ]
     },
     "execution_count": 18,
     "metadata": {},
     "output_type": "execute_result"
    }
   ],
   "source": [
    "regr.predict(X)"
   ]
  },
  {
   "cell_type": "code",
   "execution_count": null,
   "metadata": {
    "collapsed": true
   },
   "outputs": [],
   "source": []
  }
 ],
 "metadata": {
  "kernelspec": {
   "display_name": "Python 3",
   "language": "python",
   "name": "python3"
  },
  "language_info": {
   "codemirror_mode": {
    "name": "ipython",
    "version": 3
   },
   "file_extension": ".py",
   "mimetype": "text/x-python",
   "name": "python",
   "nbconvert_exporter": "python",
   "pygments_lexer": "ipython3",
   "version": "3.6.5"
  }
 },
 "nbformat": 4,
 "nbformat_minor": 2
}
