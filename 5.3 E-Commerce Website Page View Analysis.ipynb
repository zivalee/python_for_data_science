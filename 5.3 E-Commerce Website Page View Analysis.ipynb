{
 "cells": [
  {
   "cell_type": "markdown",
   "metadata": {},
   "source": [
    "## 读取用户购买纪录"
   ]
  },
  {
   "cell_type": "code",
   "execution_count": 30,
   "metadata": {},
   "outputs": [
    {
     "name": "stdout",
     "output_type": "stream",
     "text": [
      "<class 'pandas.core.frame.DataFrame'>\n",
      "RangeIndex: 54772 entries, 0 to 54771\n",
      "Data columns (total 6 columns):\n",
      "Dates       54772 non-null datetime64[ns]\n",
      "Action      54772 non-null object\n",
      "User        54772 non-null object\n",
      "Product     54772 non-null object\n",
      "Quantity    54772 non-null int64\n",
      "Price       54721 non-null float64\n",
      "dtypes: datetime64[ns](1), float64(1), int64(1), object(3)\n",
      "memory usage: 2.5+ MB\n"
     ]
    }
   ],
   "source": [
    "import pandas as pd\n",
    "m_cols = ['Time','Action','User','Product', 'Quantity','Price']\n",
    "orders = pd.read_csv('Data/purchase_order.tab', sep='\\t',\n",
    "            parse_dates={'Dates': [0]},names=m_cols, encoding='utf-8')\n",
    "orders.info()\n"
   ]
  },
  {
   "cell_type": "code",
   "execution_count": 31,
   "metadata": {},
   "outputs": [
    {
     "data": {
      "text/html": [
       "<div>\n",
       "<table border=\"1\" class=\"dataframe\">\n",
       "  <thead>\n",
       "    <tr style=\"text-align: right;\">\n",
       "      <th></th>\n",
       "      <th>Dates</th>\n",
       "      <th>Action</th>\n",
       "      <th>User</th>\n",
       "      <th>Product</th>\n",
       "      <th>Quantity</th>\n",
       "      <th>Price</th>\n",
       "    </tr>\n",
       "  </thead>\n",
       "  <tbody>\n",
       "    <tr>\n",
       "      <th>0</th>\n",
       "      <td>2015-07-01 00:00:01</td>\n",
       "      <td>order</td>\n",
       "      <td>U312622727</td>\n",
       "      <td>P0006944501</td>\n",
       "      <td>1</td>\n",
       "      <td>1069.0</td>\n",
       "    </tr>\n",
       "    <tr>\n",
       "      <th>1</th>\n",
       "      <td>2015-07-01 00:00:03</td>\n",
       "      <td>order</td>\n",
       "      <td>U239012343</td>\n",
       "      <td>P0006018073</td>\n",
       "      <td>1</td>\n",
       "      <td>1680.0</td>\n",
       "    </tr>\n",
       "    <tr>\n",
       "      <th>2</th>\n",
       "      <td>2015-07-01 00:00:19</td>\n",
       "      <td>order</td>\n",
       "      <td>U10007697373</td>\n",
       "      <td>P0002267974</td>\n",
       "      <td>1</td>\n",
       "      <td>285.0</td>\n",
       "    </tr>\n",
       "    <tr>\n",
       "      <th>3</th>\n",
       "      <td>2015-07-01 00:01:10</td>\n",
       "      <td>order</td>\n",
       "      <td>U296328517</td>\n",
       "      <td>P0016144236</td>\n",
       "      <td>1</td>\n",
       "      <td>550.0</td>\n",
       "    </tr>\n",
       "    <tr>\n",
       "      <th>4</th>\n",
       "      <td>2015-07-01 00:01:36</td>\n",
       "      <td>order</td>\n",
       "      <td>U300884570</td>\n",
       "      <td>P0014516980122</td>\n",
       "      <td>1</td>\n",
       "      <td>249.0</td>\n",
       "    </tr>\n",
       "  </tbody>\n",
       "</table>\n",
       "</div>"
      ],
      "text/plain": [
       "                Dates Action          User         Product  Quantity   Price\n",
       "0 2015-07-01 00:00:01  order    U312622727     P0006944501         1  1069.0\n",
       "1 2015-07-01 00:00:03  order    U239012343     P0006018073         1  1680.0\n",
       "2 2015-07-01 00:00:19  order  U10007697373     P0002267974         1   285.0\n",
       "3 2015-07-01 00:01:10  order    U296328517     P0016144236         1   550.0\n",
       "4 2015-07-01 00:01:36  order    U300884570  P0014516980122         1   249.0"
      ]
     },
     "execution_count": 31,
     "metadata": {},
     "output_type": "execute_result"
    }
   ],
   "source": [
    "orders.head()"
   ]
  },
  {
   "cell_type": "markdown",
   "metadata": {},
   "source": [
    "## 探索用户购买纪录"
   ]
  },
  {
   "cell_type": "code",
   "execution_count": 32,
   "metadata": {},
   "outputs": [
    {
     "data": {
      "text/plain": [
       "0       P0006944501\n",
       "1       P0006018073\n",
       "2       P0002267974\n",
       "3       P0016144236\n",
       "4    P0014516980122\n",
       "Name: Product, dtype: object"
      ]
     },
     "execution_count": 32,
     "metadata": {},
     "output_type": "execute_result"
    }
   ],
   "source": [
    "orders['Product'].head()"
   ]
  },
  {
   "cell_type": "code",
   "execution_count": 40,
   "metadata": {},
   "outputs": [
    {
     "data": {
      "text/plain": [
       "count       8.0\n",
       "mean     1069.0\n",
       "std         0.0\n",
       "min      1069.0\n",
       "25%      1069.0\n",
       "50%      1069.0\n",
       "75%      1069.0\n",
       "max      1069.0\n",
       "Name: Price, dtype: float64"
      ]
     },
     "execution_count": 40,
     "metadata": {},
     "output_type": "execute_result"
    }
   ],
   "source": [
    "orders[orders['Product'] == 'P0006944501']['Price'].describe()"
   ]
  },
  {
   "cell_type": "code",
   "execution_count": 4,
   "metadata": {},
   "outputs": [
    {
     "data": {
      "text/plain": [
       "1069.0"
      ]
     },
     "execution_count": 4,
     "metadata": {},
     "output_type": "execute_result"
    }
   ],
   "source": [
    "orders[orders['Product'] == 'P0006944501']['Price'].mean()"
   ]
  },
  {
   "cell_type": "code",
   "execution_count": 5,
   "metadata": {},
   "outputs": [
    {
     "data": {
      "text/plain": [
       "array(['P0006944501', 'P0006018073', 'P0002267974', ..., 'P0022884606',\n",
       "       'P0013911085', 'P0025123755'], dtype=object)"
      ]
     },
     "execution_count": 5,
     "metadata": {},
     "output_type": "execute_result"
    }
   ],
   "source": [
    "orders['Product'].unique()"
   ]
  },
  {
   "cell_type": "code",
   "execution_count": 6,
   "metadata": {},
   "outputs": [
    {
     "data": {
      "text/plain": [
       "20054"
      ]
     },
     "execution_count": 6,
     "metadata": {},
     "output_type": "execute_result"
    }
   ],
   "source": [
    "len(orders['Product'].unique())"
   ]
  },
  {
   "cell_type": "code",
   "execution_count": 41,
   "metadata": {},
   "outputs": [
    {
     "data": {
      "text/plain": [
       "Product\n",
       "P0000005913       1590.0\n",
       "P0000006020       1290.0\n",
       "P0000006591        999.0\n",
       "P0000007744       3280.0\n",
       "P0000008190011    5083.0\n",
       "Name: Price, dtype: float64"
      ]
     },
     "execution_count": 41,
     "metadata": {},
     "output_type": "execute_result"
    }
   ],
   "source": [
    "# select Product, avg(Price) from orders \n",
    "# group by Product limit 5\n",
    "\n",
    "orders.groupby('Product')['Price'].mean().head()"
   ]
  },
  {
   "cell_type": "code",
   "execution_count": 42,
   "metadata": {},
   "outputs": [
    {
     "data": {
      "text/plain": [
       "Product\n",
       "P0000143511    438888.0\n",
       "P0000143500    438888.0\n",
       "P0006584093    320000.0\n",
       "P0025280275    183900.0\n",
       "P0000150006    111375.0\n",
       "Name: Price, dtype: float64"
      ]
     },
     "execution_count": 42,
     "metadata": {},
     "output_type": "execute_result"
    }
   ],
   "source": [
    "# select Product, avg(Price) from orders \n",
    "# group by Product order by avg(Price) desc limit 5\n",
    "\n",
    "orders.groupby('Product')['Price'].mean()\\\n",
    ".sort_values(ascending=False).head()"
   ]
  },
  {
   "cell_type": "code",
   "execution_count": 43,
   "metadata": {
    "collapsed": true
   },
   "outputs": [],
   "source": [
    "orders['Total_Price'] = orders['Quantity'] * orders['Price']"
   ]
  },
  {
   "cell_type": "code",
   "execution_count": 46,
   "metadata": {},
   "outputs": [
    {
     "data": {
      "text/html": [
       "<div>\n",
       "<table border=\"1\" class=\"dataframe\">\n",
       "  <thead>\n",
       "    <tr style=\"text-align: right;\">\n",
       "      <th></th>\n",
       "      <th>Dates</th>\n",
       "      <th>Action</th>\n",
       "      <th>User</th>\n",
       "      <th>Product</th>\n",
       "      <th>Quantity</th>\n",
       "      <th>Price</th>\n",
       "      <th>Total_Price</th>\n",
       "    </tr>\n",
       "  </thead>\n",
       "  <tbody>\n",
       "    <tr>\n",
       "      <th>0</th>\n",
       "      <td>2015-07-01 00:00:01</td>\n",
       "      <td>order</td>\n",
       "      <td>U312622727</td>\n",
       "      <td>P0006944501</td>\n",
       "      <td>1</td>\n",
       "      <td>1069.0</td>\n",
       "      <td>1069.0</td>\n",
       "    </tr>\n",
       "    <tr>\n",
       "      <th>1</th>\n",
       "      <td>2015-07-01 00:00:03</td>\n",
       "      <td>order</td>\n",
       "      <td>U239012343</td>\n",
       "      <td>P0006018073</td>\n",
       "      <td>1</td>\n",
       "      <td>1680.0</td>\n",
       "      <td>1680.0</td>\n",
       "    </tr>\n",
       "    <tr>\n",
       "      <th>2</th>\n",
       "      <td>2015-07-01 00:00:19</td>\n",
       "      <td>order</td>\n",
       "      <td>U10007697373</td>\n",
       "      <td>P0002267974</td>\n",
       "      <td>1</td>\n",
       "      <td>285.0</td>\n",
       "      <td>285.0</td>\n",
       "    </tr>\n",
       "    <tr>\n",
       "      <th>3</th>\n",
       "      <td>2015-07-01 00:01:10</td>\n",
       "      <td>order</td>\n",
       "      <td>U296328517</td>\n",
       "      <td>P0016144236</td>\n",
       "      <td>1</td>\n",
       "      <td>550.0</td>\n",
       "      <td>550.0</td>\n",
       "    </tr>\n",
       "    <tr>\n",
       "      <th>4</th>\n",
       "      <td>2015-07-01 00:01:36</td>\n",
       "      <td>order</td>\n",
       "      <td>U300884570</td>\n",
       "      <td>P0014516980122</td>\n",
       "      <td>1</td>\n",
       "      <td>249.0</td>\n",
       "      <td>249.0</td>\n",
       "    </tr>\n",
       "  </tbody>\n",
       "</table>\n",
       "</div>"
      ],
      "text/plain": [
       "                Dates Action          User         Product  Quantity   Price  \\\n",
       "0 2015-07-01 00:00:01  order    U312622727     P0006944501         1  1069.0   \n",
       "1 2015-07-01 00:00:03  order    U239012343     P0006018073         1  1680.0   \n",
       "2 2015-07-01 00:00:19  order  U10007697373     P0002267974         1   285.0   \n",
       "3 2015-07-01 00:01:10  order    U296328517     P0016144236         1   550.0   \n",
       "4 2015-07-01 00:01:36  order    U300884570  P0014516980122         1   249.0   \n",
       "\n",
       "   Total_Price  \n",
       "0       1069.0  \n",
       "1       1680.0  \n",
       "2        285.0  \n",
       "3        550.0  \n",
       "4        249.0  "
      ]
     },
     "execution_count": 46,
     "metadata": {},
     "output_type": "execute_result"
    }
   ],
   "source": [
    "orders.head()"
   ]
  },
  {
   "cell_type": "code",
   "execution_count": 11,
   "metadata": {},
   "outputs": [
    {
     "data": {
      "text/plain": [
       "User\n",
       "U166708333      2942744.0\n",
       "U10120098943    1451117.0\n",
       "U142809250       747550.0\n",
       "U1006283751      515688.0\n",
       "U10114715330     456782.0\n",
       "Name: Total_Price, dtype: float64"
      ]
     },
     "execution_count": 11,
     "metadata": {},
     "output_type": "execute_result"
    }
   ],
   "source": [
    "#select User, sum(Total_Price) from orders\n",
    "#gorup by User order by sum(Total_Price) desc limit 5\n",
    "\n",
    "orders.groupby('User')['Total_Price'].sum().sort_values(ascending=False).head()"
   ]
  },
  {
   "cell_type": "markdown",
   "metadata": {},
   "source": [
    "## 读取用户浏览商品纪录"
   ]
  },
  {
   "cell_type": "code",
   "execution_count": 47,
   "metadata": {},
   "outputs": [
    {
     "name": "stdout",
     "output_type": "stream",
     "text": [
      "<class 'pandas.core.frame.DataFrame'>\n",
      "RangeIndex: 1191486 entries, 0 to 1191485\n",
      "Data columns (total 4 columns):\n",
      "Dates      1191486 non-null datetime64[ns]\n",
      "Action     1191486 non-null object\n",
      "User       1191486 non-null object\n",
      "Product    1191486 non-null object\n",
      "dtypes: datetime64[ns](1), object(3)\n",
      "memory usage: 36.4+ MB\n"
     ]
    }
   ],
   "source": [
    "import pandas as pd\n",
    "m_cols = ['Time','Action','User','Product']\n",
    "views = pd.read_csv('Data/purchase_view.tab', sep='\\t',\n",
    "            parse_dates={'Dates': [0]},names=m_cols, encoding='utf-8')\n",
    "views.info()\n"
   ]
  },
  {
   "cell_type": "code",
   "execution_count": 54,
   "metadata": {},
   "outputs": [
    {
     "data": {
      "text/html": [
       "<div>\n",
       "<table border=\"1\" class=\"dataframe\">\n",
       "  <thead>\n",
       "    <tr style=\"text-align: right;\">\n",
       "      <th></th>\n",
       "      <th>User</th>\n",
       "      <th>Product</th>\n",
       "      <th>buys</th>\n",
       "    </tr>\n",
       "  </thead>\n",
       "  <tbody>\n",
       "    <tr>\n",
       "      <th>0</th>\n",
       "      <td>U1000001354</td>\n",
       "      <td>P0014520085</td>\n",
       "      <td>1</td>\n",
       "    </tr>\n",
       "    <tr>\n",
       "      <th>1</th>\n",
       "      <td>U10000044910</td>\n",
       "      <td>P0018800250</td>\n",
       "      <td>1</td>\n",
       "    </tr>\n",
       "    <tr>\n",
       "      <th>2</th>\n",
       "      <td>U10000056953</td>\n",
       "      <td>P0003926850034</td>\n",
       "      <td>1</td>\n",
       "    </tr>\n",
       "    <tr>\n",
       "      <th>3</th>\n",
       "      <td>U10000056953</td>\n",
       "      <td>P0013344760004</td>\n",
       "      <td>2</td>\n",
       "    </tr>\n",
       "    <tr>\n",
       "      <th>4</th>\n",
       "      <td>U10000056953</td>\n",
       "      <td>P0013834251</td>\n",
       "      <td>1</td>\n",
       "    </tr>\n",
       "  </tbody>\n",
       "</table>\n",
       "</div>"
      ],
      "text/plain": [
       "           User         Product  buys\n",
       "0   U1000001354     P0014520085     1\n",
       "1  U10000044910     P0018800250     1\n",
       "2  U10000056953  P0003926850034     1\n",
       "3  U10000056953  P0013344760004     2\n",
       "4  U10000056953     P0013834251     1"
      ]
     },
     "execution_count": 54,
     "metadata": {},
     "output_type": "execute_result"
    }
   ],
   "source": [
    "## SELECT User, Product, COUNT(Product) FROM Orders GROUP BY User, Product\n",
    "orders_cnt = orders.groupby(['User', 'Product'])['Product']\\\n",
    ".count().reset_index(name='buys')\n",
    "orders_cnt.head()\n"
   ]
  },
  {
   "cell_type": "code",
   "execution_count": 55,
   "metadata": {},
   "outputs": [],
   "source": [
    "## SELECT User, Product, COUNT(Product) FROM views GROUP BY User, Product\n",
    "views_cnt = views.groupby(['User', 'Product'])['Product']\\\n",
    ".count().reset_index(name='views')"
   ]
  },
  {
   "cell_type": "code",
   "execution_count": 56,
   "metadata": {},
   "outputs": [
    {
     "data": {
      "text/html": [
       "<div>\n",
       "<table border=\"1\" class=\"dataframe\">\n",
       "  <thead>\n",
       "    <tr style=\"text-align: right;\">\n",
       "      <th></th>\n",
       "      <th>User</th>\n",
       "      <th>Product</th>\n",
       "      <th>buys</th>\n",
       "    </tr>\n",
       "  </thead>\n",
       "  <tbody>\n",
       "    <tr>\n",
       "      <th>0</th>\n",
       "      <td>U1000001354</td>\n",
       "      <td>P0014520085</td>\n",
       "      <td>1</td>\n",
       "    </tr>\n",
       "    <tr>\n",
       "      <th>1</th>\n",
       "      <td>U10000044910</td>\n",
       "      <td>P0018800250</td>\n",
       "      <td>1</td>\n",
       "    </tr>\n",
       "    <tr>\n",
       "      <th>2</th>\n",
       "      <td>U10000056953</td>\n",
       "      <td>P0003926850034</td>\n",
       "      <td>1</td>\n",
       "    </tr>\n",
       "    <tr>\n",
       "      <th>3</th>\n",
       "      <td>U10000056953</td>\n",
       "      <td>P0013344760004</td>\n",
       "      <td>2</td>\n",
       "    </tr>\n",
       "    <tr>\n",
       "      <th>4</th>\n",
       "      <td>U10000056953</td>\n",
       "      <td>P0013834251</td>\n",
       "      <td>1</td>\n",
       "    </tr>\n",
       "  </tbody>\n",
       "</table>\n",
       "</div>"
      ],
      "text/plain": [
       "           User         Product  buys\n",
       "0   U1000001354     P0014520085     1\n",
       "1  U10000044910     P0018800250     1\n",
       "2  U10000056953  P0003926850034     1\n",
       "3  U10000056953  P0013344760004     2\n",
       "4  U10000056953     P0013834251     1"
      ]
     },
     "execution_count": 56,
     "metadata": {},
     "output_type": "execute_result"
    }
   ],
   "source": [
    "orders_cnt.head()"
   ]
  },
  {
   "cell_type": "code",
   "execution_count": 57,
   "metadata": {},
   "outputs": [
    {
     "data": {
      "text/html": [
       "<div>\n",
       "<table border=\"1\" class=\"dataframe\">\n",
       "  <thead>\n",
       "    <tr style=\"text-align: right;\">\n",
       "      <th></th>\n",
       "      <th>User</th>\n",
       "      <th>Product</th>\n",
       "      <th>views</th>\n",
       "    </tr>\n",
       "  </thead>\n",
       "  <tbody>\n",
       "    <tr>\n",
       "      <th>0</th>\n",
       "      <td>None</td>\n",
       "      <td>PNone</td>\n",
       "      <td>1</td>\n",
       "    </tr>\n",
       "    <tr>\n",
       "      <th>1</th>\n",
       "      <td>U10000000225</td>\n",
       "      <td>P0007107111</td>\n",
       "      <td>1</td>\n",
       "    </tr>\n",
       "    <tr>\n",
       "      <th>2</th>\n",
       "      <td>U10000000225</td>\n",
       "      <td>P0007107122</td>\n",
       "      <td>1</td>\n",
       "    </tr>\n",
       "    <tr>\n",
       "      <th>3</th>\n",
       "      <td>U10000000225</td>\n",
       "      <td>P0007107413</td>\n",
       "      <td>1</td>\n",
       "    </tr>\n",
       "    <tr>\n",
       "      <th>4</th>\n",
       "      <td>U10000000225</td>\n",
       "      <td>P0009440001</td>\n",
       "      <td>1</td>\n",
       "    </tr>\n",
       "  </tbody>\n",
       "</table>\n",
       "</div>"
      ],
      "text/plain": [
       "           User      Product  views\n",
       "0          None        PNone      1\n",
       "1  U10000000225  P0007107111      1\n",
       "2  U10000000225  P0007107122      1\n",
       "3  U10000000225  P0007107413      1\n",
       "4  U10000000225  P0009440001      1"
      ]
     },
     "execution_count": 57,
     "metadata": {},
     "output_type": "execute_result"
    }
   ],
   "source": [
    "views_cnt.head()"
   ]
  },
  {
   "cell_type": "markdown",
   "metadata": {},
   "source": [
    "## 合并购买与浏览纪录"
   ]
  },
  {
   "cell_type": "code",
   "execution_count": 58,
   "metadata": {
    "collapsed": true
   },
   "outputs": [],
   "source": [
    "merge_df = pd.merge(orders_cnt, views_cnt, on=['User','Product'], how='right')"
   ]
  },
  {
   "cell_type": "code",
   "execution_count": 61,
   "metadata": {},
   "outputs": [
    {
     "data": {
      "text/html": [
       "<div>\n",
       "<table border=\"1\" class=\"dataframe\">\n",
       "  <thead>\n",
       "    <tr style=\"text-align: right;\">\n",
       "      <th></th>\n",
       "      <th>User</th>\n",
       "      <th>Product</th>\n",
       "      <th>buys</th>\n",
       "      <th>views</th>\n",
       "    </tr>\n",
       "  </thead>\n",
       "  <tbody>\n",
       "    <tr>\n",
       "      <th>0</th>\n",
       "      <td>U10000044910</td>\n",
       "      <td>P0018800250</td>\n",
       "      <td>1.0</td>\n",
       "      <td>2</td>\n",
       "    </tr>\n",
       "    <tr>\n",
       "      <th>1</th>\n",
       "      <td>U10000056953</td>\n",
       "      <td>P0013834251</td>\n",
       "      <td>1.0</td>\n",
       "      <td>7</td>\n",
       "    </tr>\n",
       "    <tr>\n",
       "      <th>2</th>\n",
       "      <td>U10000065461</td>\n",
       "      <td>P0023597022</td>\n",
       "      <td>1.0</td>\n",
       "      <td>1</td>\n",
       "    </tr>\n",
       "    <tr>\n",
       "      <th>3</th>\n",
       "      <td>U10000092625</td>\n",
       "      <td>P0023729451</td>\n",
       "      <td>1.0</td>\n",
       "      <td>14</td>\n",
       "    </tr>\n",
       "    <tr>\n",
       "      <th>4</th>\n",
       "      <td>U10000092625</td>\n",
       "      <td>P0024236730</td>\n",
       "      <td>1.0</td>\n",
       "      <td>4</td>\n",
       "    </tr>\n",
       "  </tbody>\n",
       "</table>\n",
       "</div>"
      ],
      "text/plain": [
       "           User      Product  buys  views\n",
       "0  U10000044910  P0018800250   1.0      2\n",
       "1  U10000056953  P0013834251   1.0      7\n",
       "2  U10000065461  P0023597022   1.0      1\n",
       "3  U10000092625  P0023729451   1.0     14\n",
       "4  U10000092625  P0024236730   1.0      4"
      ]
     },
     "execution_count": 61,
     "metadata": {},
     "output_type": "execute_result"
    }
   ],
   "source": [
    "merge_df.head()"
   ]
  },
  {
   "cell_type": "markdown",
   "metadata": {},
   "source": [
    "## 瞭解使用者在不同日期與時間的消費習慣"
   ]
  },
  {
   "cell_type": "code",
   "execution_count": 19,
   "metadata": {},
   "outputs": [
    {
     "data": {
      "text/html": [
       "<div>\n",
       "<table border=\"1\" class=\"dataframe\">\n",
       "  <thead>\n",
       "    <tr style=\"text-align: right;\">\n",
       "      <th></th>\n",
       "      <th>Dates</th>\n",
       "      <th>Action</th>\n",
       "      <th>User</th>\n",
       "      <th>Product</th>\n",
       "    </tr>\n",
       "  </thead>\n",
       "  <tbody>\n",
       "    <tr>\n",
       "      <th>0</th>\n",
       "      <td>2015-07-01 00:00:01</td>\n",
       "      <td>view</td>\n",
       "      <td>U129297265</td>\n",
       "      <td>P0023468384</td>\n",
       "    </tr>\n",
       "    <tr>\n",
       "      <th>1</th>\n",
       "      <td>2015-07-01 00:00:03</td>\n",
       "      <td>view</td>\n",
       "      <td>U321001337</td>\n",
       "      <td>P0018926456</td>\n",
       "    </tr>\n",
       "    <tr>\n",
       "      <th>2</th>\n",
       "      <td>2015-07-01 00:00:05</td>\n",
       "      <td>view</td>\n",
       "      <td>U10070718237</td>\n",
       "      <td>P0000063593</td>\n",
       "    </tr>\n",
       "    <tr>\n",
       "      <th>3</th>\n",
       "      <td>2015-07-01 00:00:05</td>\n",
       "      <td>view</td>\n",
       "      <td>U393805241</td>\n",
       "      <td>P0005541535</td>\n",
       "    </tr>\n",
       "    <tr>\n",
       "      <th>4</th>\n",
       "      <td>2015-07-01 00:00:10</td>\n",
       "      <td>view</td>\n",
       "      <td>U10004621134</td>\n",
       "      <td>P0022135540</td>\n",
       "    </tr>\n",
       "  </tbody>\n",
       "</table>\n",
       "</div>"
      ],
      "text/plain": [
       "                Dates Action          User      Product\n",
       "0 2015-07-01 00:00:01   view    U129297265  P0023468384\n",
       "1 2015-07-01 00:00:03   view    U321001337  P0018926456\n",
       "2 2015-07-01 00:00:05   view  U10070718237  P0000063593\n",
       "3 2015-07-01 00:00:05   view    U393805241  P0005541535\n",
       "4 2015-07-01 00:00:10   view  U10004621134  P0022135540"
      ]
     },
     "execution_count": 19,
     "metadata": {},
     "output_type": "execute_result"
    }
   ],
   "source": [
    "views.head()"
   ]
  },
  {
   "cell_type": "code",
   "execution_count": 20,
   "metadata": {},
   "outputs": [
    {
     "name": "stdout",
     "output_type": "stream",
     "text": [
      "<class 'pandas.core.frame.DataFrame'>\n",
      "RangeIndex: 1191486 entries, 0 to 1191485\n",
      "Data columns (total 4 columns):\n",
      "Dates      1191486 non-null datetime64[ns]\n",
      "Action     1191486 non-null object\n",
      "User       1191486 non-null object\n",
      "Product    1191486 non-null object\n",
      "dtypes: datetime64[ns](1), object(3)\n",
      "memory usage: 36.4+ MB\n"
     ]
    }
   ],
   "source": [
    "views.info()"
   ]
  },
  {
   "cell_type": "code",
   "execution_count": 65,
   "metadata": {},
   "outputs": [
    {
     "data": {
      "text/plain": [
       "0    2015-07-01\n",
       "1    2015-07-01\n",
       "2    2015-07-01\n",
       "3    2015-07-01\n",
       "4    2015-07-01\n",
       "Name: Dates, dtype: object"
      ]
     },
     "execution_count": 65,
     "metadata": {},
     "output_type": "execute_result"
    }
   ],
   "source": [
    "# year, month, day, date, hour \n",
    "views['Dates'].dt.date.head()"
   ]
  },
  {
   "cell_type": "code",
   "execution_count": 67,
   "metadata": {},
   "outputs": [
    {
     "data": {
      "text/plain": [
       "Dates\n",
       "2015-07-01    24569\n",
       "2015-07-02    17043\n",
       "2015-07-03    28041\n",
       "2015-07-04    28625\n",
       "2015-07-05    15522\n",
       "Name: Action, dtype: int64"
      ]
     },
     "execution_count": 67,
     "metadata": {},
     "output_type": "execute_result"
    }
   ],
   "source": [
    "# select date, count(action) from views\n",
    "# group by date\n",
    "views_cnt_by_date  = views.groupby(views['Dates'].dt.date)['Action'].count()\n",
    "views_cnt_by_date.head()"
   ]
  },
  {
   "cell_type": "markdown",
   "metadata": {},
   "source": [
    "## 绘制图表"
   ]
  },
  {
   "cell_type": "code",
   "execution_count": 68,
   "metadata": {},
   "outputs": [],
   "source": [
    "?views_cnt_by_date.plot"
   ]
  },
  {
   "cell_type": "code",
   "execution_count": 69,
   "metadata": {},
   "outputs": [
    {
     "name": "stdout",
     "output_type": "stream",
     "text": [
      "Populating the interactive namespace from numpy and matplotlib\n"
     ]
    },
    {
     "data": {
      "text/plain": [
       "<matplotlib.axes._subplots.AxesSubplot at 0x20ee9c50>"
      ]
     },
     "execution_count": 69,
     "metadata": {},
     "output_type": "execute_result"
    },
    {
     "data": {
      "image/png": "[encoded data removed]",
      "text/plain": [
       "<matplotlib.figure.Figure at 0x9f558d0>"
      ]
     },
     "metadata": {},
     "output_type": "display_data"
    }
   ],
   "source": [
    "%pylab inline\n",
    "\n",
    "views_cnt_by_date.plot(kind='line', figsize=[10,5])"
   ]
  },
  {
   "cell_type": "code",
   "execution_count": 70,
   "metadata": {
    "collapsed": true
   },
   "outputs": [],
   "source": [
    "# select hour(Dates), count(action) from views\n",
    "# group by  hour(Dates)\n",
    "views_cnt_by_hour  = views.groupby(views['Dates'].dt.hour)['Action'].count()"
   ]
  },
  {
   "cell_type": "code",
   "execution_count": 71,
   "metadata": {},
   "outputs": [
    {
     "name": "stdout",
     "output_type": "stream",
     "text": [
      "Populating the interactive namespace from numpy and matplotlib\n"
     ]
    },
    {
     "data": {
      "text/plain": [
       "<matplotlib.axes._subplots.AxesSubplot at 0x1f14fdd8>"
      ]
     },
     "execution_count": 71,
     "metadata": {},
     "output_type": "execute_result"
    },
    {
     "data": {
      "image/png": "[encoded data removed]",
      "text/plain": [
       "<matplotlib.figure.Figure at 0x2bc26b00>"
      ]
     },
     "metadata": {},
     "output_type": "display_data"
    }
   ],
   "source": [
    "%pylab inline\n",
    "\n",
    "views_cnt_by_hour.plot(kind='line', title = 'view count by hour', figsize=[10,5])"
   ]
  },
  {
   "cell_type": "code",
   "execution_count": 72,
   "metadata": {},
   "outputs": [
    {
     "data": {
      "text/plain": [
       "<matplotlib.axes._subplots.AxesSubplot at 0x1efdbf28>"
      ]
     },
     "execution_count": 72,
     "metadata": {},
     "output_type": "execute_result"
    },
    {
     "data": {
      "image/png": "[encoded data removed]",
      "text/plain": [
       "<matplotlib.figure.Figure at 0x2134eda0>"
      ]
     },
     "metadata": {},
     "output_type": "display_data"
    }
   ],
   "source": [
    "orders['Total_price'] = orders['Quantity'] * orders['Price']\n",
    "g = orders.groupby('User')['Total_price'].sum().sort_values(ascending=False)[0:10]\n",
    "g.plot(kind=\"bar\", figsize=[10,5])\n"
   ]
  },
  {
   "cell_type": "code",
   "execution_count": 73,
   "metadata": {},
   "outputs": [
    {
     "data": {
      "text/plain": [
       "Dates\n",
       "2015-07-01    24569\n",
       "2015-07-02    17043\n",
       "2015-07-03    28041\n",
       "2015-07-04    28625\n",
       "2015-07-05    15522\n",
       "Name: Action, dtype: int64"
      ]
     },
     "execution_count": 73,
     "metadata": {},
     "output_type": "execute_result"
    }
   ],
   "source": [
    "view_daily_cnt = views.groupby(by=views['Dates'].dt.date)['Action'].count()\n",
    "orders_daily_cnt = orders.groupby(by=orders['Dates'].dt.date)['Action'].count()\n",
    "view_daily_cnt.head()\n"
   ]
  },
  {
   "cell_type": "code",
   "execution_count": 74,
   "metadata": {},
   "outputs": [
    {
     "data": {
      "text/plain": [
       "Dates\n",
       "2015-07-01    2324\n",
       "2015-07-02    2059\n",
       "2015-07-03    1778\n",
       "2015-07-04    2166\n",
       "2015-07-05    1413\n",
       "Name: Action, dtype: int64"
      ]
     },
     "execution_count": 74,
     "metadata": {},
     "output_type": "execute_result"
    }
   ],
   "source": [
    "orders_daily_cnt.head()"
   ]
  },
  {
   "cell_type": "code",
   "execution_count": 76,
   "metadata": {},
   "outputs": [
    {
     "data": {
      "text/html": [
       "<div>\n",
       "<table border=\"1\" class=\"dataframe\">\n",
       "  <thead>\n",
       "    <tr style=\"text-align: right;\">\n",
       "      <th></th>\n",
       "      <th>Views</th>\n",
       "      <th>Orders</th>\n",
       "    </tr>\n",
       "  </thead>\n",
       "  <tbody>\n",
       "    <tr>\n",
       "      <th>2015-07-01</th>\n",
       "      <td>24569</td>\n",
       "      <td>2324.0</td>\n",
       "    </tr>\n",
       "    <tr>\n",
       "      <th>2015-07-02</th>\n",
       "      <td>17043</td>\n",
       "      <td>2059.0</td>\n",
       "    </tr>\n",
       "    <tr>\n",
       "      <th>2015-07-03</th>\n",
       "      <td>28041</td>\n",
       "      <td>1778.0</td>\n",
       "    </tr>\n",
       "    <tr>\n",
       "      <th>2015-07-04</th>\n",
       "      <td>28625</td>\n",
       "      <td>2166.0</td>\n",
       "    </tr>\n",
       "    <tr>\n",
       "      <th>2015-07-05</th>\n",
       "      <td>15522</td>\n",
       "      <td>1413.0</td>\n",
       "    </tr>\n",
       "  </tbody>\n",
       "</table>\n",
       "</div>"
      ],
      "text/plain": [
       "            Views  Orders\n",
       "2015-07-01  24569  2324.0\n",
       "2015-07-02  17043  2059.0\n",
       "2015-07-03  28041  1778.0\n",
       "2015-07-04  28625  2166.0\n",
       "2015-07-05  15522  1413.0"
      ]
     },
     "execution_count": 76,
     "metadata": {},
     "output_type": "execute_result"
    }
   ],
   "source": [
    "df = pd.concat([view_daily_cnt, orders_daily_cnt], axis=1)\n",
    "df.dropna(inplace=True)\n",
    "df.columns = ['Views', 'Orders']\n",
    "df.head()\n"
   ]
  },
  {
   "cell_type": "code",
   "execution_count": 78,
   "metadata": {},
   "outputs": [
    {
     "data": {
      "text/plain": [
       "<matplotlib.axes._subplots.AxesSubplot at 0x28341710>"
      ]
     },
     "execution_count": 78,
     "metadata": {},
     "output_type": "execute_result"
    },
    {
     "data": {
      "image/png": "[encoded data removed]",
      "text/plain": [
       "<matplotlib.figure.Figure at 0x30908198>"
      ]
     },
     "metadata": {},
     "output_type": "display_data"
    }
   ],
   "source": [
    "df.plot(kind=\"line\", figsize=[10,5], rot=30)"
   ]
  },
  {
   "cell_type": "code",
   "execution_count": null,
   "metadata": {
    "collapsed": true
   },
   "outputs": [],
   "source": []
  }
 ],
 "metadata": {
  "anaconda-cloud": {},
  "kernelspec": {
   "display_name": "Python 3",
   "language": "python",
   "name": "python3"
  },
  "language_info": {
   "codemirror_mode": {
    "name": "ipython",
    "version": 3
   },
   "file_extension": ".py",
   "mimetype": "text/x-python",
   "name": "python",
   "nbconvert_exporter": "python",
   "pygments_lexer": "ipython3",
   "version": "3.6.4"
  }
 },
 "nbformat": 4,
 "nbformat_minor": 1
}
